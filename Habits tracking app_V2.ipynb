{
 "cells": [
  {
   "cell_type": "code",
   "execution_count": 1,
   "id": "9e2308fb-24da-426d-9e55-945d3063a1e0",
   "metadata": {
    "tags": []
   },
   "outputs": [
    {
     "name": "stdout",
     "output_type": "stream",
     "text": [
      "\n",
      "=== Habit Tracker ===\n",
      "1. Add Habit\n",
      "2. List Habits\n",
      "3. Analyze Habits\n",
      "4. Save and Exit\n"
     ]
    },
    {
     "name": "stdin",
     "output_type": "stream",
     "text": [
      "Select an option:  1\n",
      "Enter habit name:  football\n",
      "Enter habit periodicity (daily/weekly):  daily\n"
     ]
    },
    {
     "name": "stdout",
     "output_type": "stream",
     "text": [
      "Habit added successfully!\n",
      "\n",
      "=== Habit Tracker ===\n",
      "1. Add Habit\n",
      "2. List Habits\n",
      "3. Analyze Habits\n",
      "4. Save and Exit\n"
     ]
    },
    {
     "name": "stdin",
     "output_type": "stream",
     "text": [
      "Select an option:  4\n"
     ]
    },
    {
     "name": "stdout",
     "output_type": "stream",
     "text": [
      "Data saved. Exiting...\n"
     ]
    }
   ],
   "source": [
    "import json\n",
    "from datetime import datetime\n",
    "\n",
    "class Habit:\n",
    "    def __init__(self, name, periodicity):\n",
    "        self.name = name\n",
    "        self.periodicity = periodicity\n",
    "        self.tasks = []\n",
    "\n",
    "    def add_task(self, completed):\n",
    "        self.tasks.append({\n",
    "            \"completed\": completed,\n",
    "            \"timestamp\": datetime.now().isoformat()\n",
    "        })\n",
    "\n",
    "    def longest_streak(self):\n",
    "        # Calculate the longest streak of completed tasks\n",
    "        pass\n",
    "\n",
    "    def __str__(self):\n",
    "        return f\"Habit: {self.name}, Periodicity: {self.periodicity}\"\n",
    "\n",
    "\n",
    "class HabitTracker:\n",
    "    def __init__(self):\n",
    "        self.habits = []\n",
    "\n",
    "    def add_habit(self, habit):\n",
    "        self.habits.append(habit)\n",
    "\n",
    "    def list_habits(self):\n",
    "        # List all tracked habits\n",
    "        pass\n",
    "\n",
    "    def analyze_habits(self):\n",
    "        # Analyze habits based on user queries\n",
    "        pass\n",
    "\n",
    "    def save_data(self, filename):\n",
    "        with open(filename, 'w') as file:\n",
    "            json.dump({\"habits\": [habit.__dict__ for habit in self.habits]}, file)\n",
    "\n",
    "    def load_data(self, filename):\n",
    "        with open(filename, 'r') as file:\n",
    "            data = json.load(file)\n",
    "            self.habits = [Habit(habit['name'], habit['periodicity']) for habit in data[\"habits\"]]\n",
    "\n",
    "\n",
    "def main():\n",
    "    tracker = HabitTracker()\n",
    "\n",
    "    # Load existing data if available\n",
    "    try:\n",
    "        tracker.load_data('habits.json')\n",
    "    except FileNotFoundError:\n",
    "        pass\n",
    "\n",
    "    # Main menu loop\n",
    "    while True:\n",
    "        print(\"\\n=== Habit Tracker ===\")\n",
    "        print(\"1. Add Habit\")\n",
    "        print(\"2. List Habits\")\n",
    "        print(\"3. Analyze Habits\")\n",
    "        print(\"4. Save and Exit\")\n",
    "\n",
    "        choice = input(\"Select an option: \")\n",
    "        if choice == \"1\":\n",
    "            name = input(\"Enter habit name: \")\n",
    "            periodicity = input(\"Enter habit periodicity (daily/weekly): \")\n",
    "            habit = Habit(name, periodicity)\n",
    "            tracker.add_habit(habit)\n",
    "            print(\"Habit added successfully!\")\n",
    "        elif choice == \"2\":\n",
    "            # List habits\n",
    "            pass\n",
    "        elif choice == \"3\":\n",
    "            # Analyze habits\n",
    "            pass\n",
    "        elif choice == \"4\":\n",
    "            tracker.save_data('habits.json')\n",
    "            print(\"Data saved. Exiting...\")\n",
    "            break\n",
    "        else:\n",
    "            print(\"Invalid choice. Please try again.\")\n",
    "\n",
    "if __name__ == \"__main__\":\n",
    "    main()\n"
   ]
  },
  {
   "cell_type": "code",
   "execution_count": null,
   "id": "9d89cc9d-8be7-47f8-a8d0-a45236d2665b",
   "metadata": {},
   "outputs": [],
   "source": []
  }
 ],
 "metadata": {
  "kernelspec": {
   "display_name": "Python 3 (ipykernel)",
   "language": "python",
   "name": "python3"
  },
  "language_info": {
   "codemirror_mode": {
    "name": "ipython",
    "version": 3
   },
   "file_extension": ".py",
   "mimetype": "text/x-python",
   "name": "python",
   "nbconvert_exporter": "python",
   "pygments_lexer": "ipython3",
   "version": "3.11.4"
  }
 },
 "nbformat": 4,
 "nbformat_minor": 5
}
